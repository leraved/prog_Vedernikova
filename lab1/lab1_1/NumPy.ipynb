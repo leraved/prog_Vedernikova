{
 "cells": [
  {
   "cell_type": "markdown",
   "metadata": {},
   "source": [
    "**NumPy** - это фундаментальный пакет для научных вычислений на Python. \n",
    "Он содержит, помимо прочего: \n",
    "* мощный N-мерный массив объектов\n",
    "* полезные элементы линейной алгебры написанные на языке C / C ++ и Фортран\n",
    "* преобразования Фурье и случайные чисела. \n",
    "\n",
    "Помимо очевидного научного использования, NumPy также может использоваться как эффективный многомерный контейнер данных."
   ]
  },
  {
   "cell_type": "code",
   "execution_count": 1,
   "metadata": {},
   "outputs": [],
   "source": [
    "import numpy as np"
   ]
  },
  {
   "cell_type": "markdown",
   "metadata": {},
   "source": [
    "## Массивы\n",
    "\n",
    "Массив numpy представляет собой сетку значений одного типа и индексируется кортежем неотрицательных целых чисел. Число измерений-это ранг массива; форма массива - это кортеж целых чисел, дающих размер массива вдоль каждого измерения.\n",
    "\n",
    "Мы можем инициализировать массивы numpy из стандартных списков Python и получить доступ к элементам с помощью квадратных скобок:"
   ]
  },
  {
   "cell_type": "code",
   "execution_count": 2,
   "metadata": {},
   "outputs": [
    {
     "name": "stdout",
     "output_type": "stream",
     "text": [
      "<class 'list'>\n",
      "<class 'numpy.ndarray'>\n",
      "(3,)\n",
      "1 2 3\n",
      "[5 2 3]\n"
     ]
    }
   ],
   "source": [
    "a = np.array([1, 2, 3])\n",
    "print(type([1, 2, 3]))\n",
    "print(type(a))            \n",
    "print(a.shape)            \n",
    "print(a[0], a[1], a[2])   \n",
    "a[0] = 5                  \n",
    "print(a)                  "
   ]
  },
  {
   "cell_type": "code",
   "execution_count": 3,
   "metadata": {},
   "outputs": [
    {
     "name": "stdout",
     "output_type": "stream",
     "text": [
      "(2, 3)\n",
      "[[1 2 3]\n",
      " [4 5 6]]\n",
      "1 2 4\n"
     ]
    }
   ],
   "source": [
    "b = np.array([[1,2,3],[4,5,6]])\n",
    "print(b.shape)\n",
    "print(b)\n",
    "print(b[0, 0], b[0, 1], b[1, 0])"
   ]
  },
  {
   "cell_type": "markdown",
   "metadata": {},
   "source": [
    "NumPy включает в себя множество функций для создания массивов:"
   ]
  },
  {
   "cell_type": "code",
   "execution_count": 4,
   "metadata": {},
   "outputs": [
    {
     "name": "stdout",
     "output_type": "stream",
     "text": [
      "[[0. 0.]\n",
      " [0. 0.]]\n"
     ]
    }
   ],
   "source": [
    "a = np.zeros((2,2))\n",
    "print(a)  "
   ]
  },
  {
   "cell_type": "code",
   "execution_count": 5,
   "metadata": {},
   "outputs": [
    {
     "name": "stdout",
     "output_type": "stream",
     "text": [
      "[[1. 1.]]\n"
     ]
    }
   ],
   "source": [
    "b = np.ones((1,2))\n",
    "print(b)"
   ]
  },
  {
   "cell_type": "code",
   "execution_count": 6,
   "metadata": {},
   "outputs": [
    {
     "name": "stdout",
     "output_type": "stream",
     "text": [
      "[[7 7]\n",
      " [7 7]]\n"
     ]
    }
   ],
   "source": [
    "c = np.full((2,2), 7)\n",
    "print(c)"
   ]
  },
  {
   "cell_type": "code",
   "execution_count": 7,
   "metadata": {},
   "outputs": [
    {
     "name": "stdout",
     "output_type": "stream",
     "text": [
      "[[1. 0.]\n",
      " [0. 1.]]\n"
     ]
    }
   ],
   "source": [
    "d = np.eye(2)\n",
    "print(d) "
   ]
  },
  {
   "cell_type": "code",
   "execution_count": 8,
   "metadata": {},
   "outputs": [
    {
     "name": "stdout",
     "output_type": "stream",
     "text": [
      "[[0.15441131 0.30720309]\n",
      " [0.08440775 0.35676251]]\n"
     ]
    }
   ],
   "source": [
    "e = np.random.random((2,2))\n",
    "print(e)"
   ]
  },
  {
   "cell_type": "markdown",
   "metadata": {},
   "source": [
    "Про все остальные способы создать массив можно прочитать в документации https://docs.scipy.org/doc/numpy/user/basics.creation.html#arrays-creation"
   ]
  },
  {
   "cell_type": "markdown",
   "metadata": {},
   "source": [
    "## Индексации массива \n",
    "Numpy предлагает несколько способов индексирования."
   ]
  },
  {
   "cell_type": "markdown",
   "metadata": {},
   "source": [
    "### Срезы:\n",
    "так же как в списках в Python.\n",
    "Поскольку массивы могут быть многомерными, необходимо указать срез для каждого измерения массива."
   ]
  },
  {
   "cell_type": "code",
   "execution_count": 10,
   "metadata": {},
   "outputs": [
    {
     "name": "stdout",
     "output_type": "stream",
     "text": [
      "[[ 1  2  3  4]\n",
      " [ 5  6  7  8]\n",
      " [ 9 10 11 12]] \n",
      "\n",
      "[[2 3]\n",
      " [6 7]]\n"
     ]
    }
   ],
   "source": [
    "a = np.array([[1,2,3,4], [5,6,7,8], [9,10,11,12]])\n",
    "print(a, '\\n')\n",
    "b = a[:2, 1:3]\n",
    "print(b)"
   ]
  },
  {
   "cell_type": "markdown",
   "metadata": {},
   "source": [
    "Срез списка указывает на те же данные, изменяя срез мы изменим и исходный список"
   ]
  },
  {
   "cell_type": "code",
   "execution_count": 11,
   "metadata": {},
   "outputs": [
    {
     "name": "stdout",
     "output_type": "stream",
     "text": [
      "[[  1 123   3   4]\n",
      " [  5   6   7   8]\n",
      " [  9  10  11  12]] \n",
      "\n",
      "[[123   3]\n",
      " [  6   7]]\n"
     ]
    }
   ],
   "source": [
    "b[0, 0] = 123\n",
    "print(a, '\\n')\n",
    "print(b)"
   ]
  },
  {
   "cell_type": "markdown",
   "metadata": {},
   "source": [
    "### Целочисленное индексирование\n",
    "При индексировании с помощью срезов резултат всегда будет подмассивом исходного. Целочисленное индексирование позволяет создавать произвольные массивы, используя данные из другого массива."
   ]
  },
  {
   "cell_type": "code",
   "execution_count": 12,
   "metadata": {},
   "outputs": [
    {
     "name": "stdout",
     "output_type": "stream",
     "text": [
      "[[1 2]\n",
      " [3 4]\n",
      " [5 6]] (3, 2) \n",
      "\n",
      "[1 4 5] (3,)\n"
     ]
    }
   ],
   "source": [
    "a = np.array([[1,2], [3, 4], [5, 6]])\n",
    "b = a[[0, 1, 2], [0, 1, 0]]\n",
    "\n",
    "print(a, a.shape, '\\n')\n",
    "print(b, b.shape)"
   ]
  },
  {
   "cell_type": "markdown",
   "metadata": {},
   "source": [
    "Пример выше эквивалентен такому:"
   ]
  },
  {
   "cell_type": "code",
   "execution_count": 13,
   "metadata": {},
   "outputs": [
    {
     "name": "stdout",
     "output_type": "stream",
     "text": [
      "[1 4 5] (3,)\n"
     ]
    }
   ],
   "source": [
    "b = np.array([a[0, 0], a[1, 1], a[2, 0]])\n",
    "print(b, b.shape)"
   ]
  },
  {
   "cell_type": "markdown",
   "metadata": {},
   "source": [
    "Так же можно использовать один и тот же элемент несколько раз"
   ]
  },
  {
   "cell_type": "code",
   "execution_count": 14,
   "metadata": {},
   "outputs": [
    {
     "name": "stdout",
     "output_type": "stream",
     "text": [
      "[2 2]\n",
      "[2 2]\n"
     ]
    }
   ],
   "source": [
    "print(a[[0, 0], [1, 1]])\n",
    "# Пример выше эквивалентен такому:\n",
    "print(np.array([a[0, 1], a[0, 1]]))"
   ]
  },
  {
   "cell_type": "markdown",
   "metadata": {},
   "source": [
    "Один полезный трюк с целочисленным индексированием массива -- выбор или изменеие одного элемента из каждой строки матрицы:"
   ]
  },
  {
   "cell_type": "code",
   "execution_count": 15,
   "metadata": {},
   "outputs": [
    {
     "name": "stdout",
     "output_type": "stream",
     "text": [
      "[[ 1  2  3]\n",
      " [ 4  5  6]\n",
      " [ 7  8  9]\n",
      " [10 11 12]] \n",
      "\n",
      "[ 1  6  7 11] \n",
      "\n",
      "[[11  2  3]\n",
      " [ 4  5 16]\n",
      " [17  8  9]\n",
      " [10 21 12]]\n"
     ]
    }
   ],
   "source": [
    "# Create a new array from which we will select elements\n",
    "a = np.array([[1,2,3], [4,5,6], [7,8,9], [10, 11, 12]])\n",
    "\n",
    "print(a, '\\n')\n",
    "\n",
    "# Создадим массив индексов\n",
    "b = np.array([0, 2, 0, 1])\n",
    "\n",
    "# Выбирем один элемент из скаждой строки по индексам из b\n",
    "print(a[np.arange(4), b], '\\n')  \n",
    "\n",
    "# Изменим эти элементы\n",
    "a[np.arange(4), b] += 10\n",
    "\n",
    "print(a)"
   ]
  },
  {
   "cell_type": "markdown",
   "metadata": {},
   "source": [
    "Можно также смешивать целочисленное индексирование со срезами.Это даст массив более низкого ранга, чем исходный массив. "
   ]
  },
  {
   "cell_type": "code",
   "execution_count": 16,
   "metadata": {},
   "outputs": [
    {
     "name": "stdout",
     "output_type": "stream",
     "text": [
      "[5 6 7 8] (4,)\n",
      "[[5 6 7 8]] (1, 4)\n"
     ]
    }
   ],
   "source": [
    "a = np.array([[1,2,3,4], [5,6,7,8], [9,10,11,12]])\n",
    "\n",
    "row_r1 = a[1, :]    # Rank 1 ссылается на вторую строчку a\n",
    "row_r2 = a[1:2, :]  # Rank 2 ссылается на вторую строчку a\n",
    "print(row_r1, row_r1.shape)\n",
    "print(row_r2, row_r2.shape)"
   ]
  },
  {
   "cell_type": "markdown",
   "metadata": {},
   "source": [
    "Со столбцами всё точно так же"
   ]
  },
  {
   "cell_type": "code",
   "execution_count": 17,
   "metadata": {},
   "outputs": [
    {
     "name": "stdout",
     "output_type": "stream",
     "text": [
      "[ 2  6 10] (3,)\n",
      "[[ 2]\n",
      " [ 6]\n",
      " [10]] (3, 1)\n"
     ]
    }
   ],
   "source": [
    "col_r1 = a[:, 1]\n",
    "col_r2 = a[:, 1:2]\n",
    "print(col_r1, col_r1.shape) \n",
    "print(col_r2, col_r2.shape)"
   ]
  },
  {
   "cell_type": "markdown",
   "metadata": {},
   "source": [
    "### Логическое индексирование\n",
    "позволяет выбирать произвольные элементы массива. Часто этот тип индексирования используется для выбора элементов массива, удовлетворяющих некоторому условию. Вот пример:"
   ]
  },
  {
   "cell_type": "code",
   "execution_count": 18,
   "metadata": {},
   "outputs": [
    {
     "name": "stdout",
     "output_type": "stream",
     "text": [
      "[[False False]\n",
      " [ True  True]\n",
      " [ True  True]]\n"
     ]
    }
   ],
   "source": [
    "a = np.array([[1,2], [3, 4], [5, 6]])\n",
    "\n",
    "bool_idx = (a > 2)   # Возвращает массив Booleans такого же размера как a\n",
    "\n",
    "print(bool_idx)\n"
   ]
  },
  {
   "cell_type": "markdown",
   "metadata": {},
   "source": [
    "Используем логическое индексирование массива чтобы построить массив\n",
    "состоящий из элементов `a`, соответствующих истинным значениям из `bool_idx`"
   ]
  },
  {
   "cell_type": "code",
   "execution_count": 19,
   "metadata": {},
   "outputs": [
    {
     "name": "stdout",
     "output_type": "stream",
     "text": [
      "[3 4 5 6]\n"
     ]
    }
   ],
   "source": [
    "print(a[bool_idx])"
   ]
  },
  {
   "cell_type": "markdown",
   "metadata": {},
   "source": [
    "Всё можно записать в одну строчку. Очень лаконично"
   ]
  },
  {
   "cell_type": "code",
   "execution_count": 20,
   "metadata": {},
   "outputs": [
    {
     "name": "stdout",
     "output_type": "stream",
     "text": [
      "[3 4 5 6]\n"
     ]
    }
   ],
   "source": [
    "print(a[a > 2]) "
   ]
  },
  {
   "cell_type": "markdown",
   "metadata": {},
   "source": [
    "Для краткости мы оставили много деталей об индексации массива numpy; если вы хотите узнать больше, вы должны прочитать документацию. https://docs.scipy.org/doc/numpy/reference/arrays.indexing.html"
   ]
  },
  {
   "cell_type": "markdown",
   "metadata": {},
   "source": [
    "## Типы данных\n",
    "Каждый массив numpy представляет собой сетку элементов одного типа. Numpy содержит большой набор числовых типов данных, которые можно использовать для создания массивов. Numpy пытается угадать тип данных при создании массива, но функции, которые строят массивы, обычно также включают необязательный аргумент для явного указания типа данных. Вот пример:"
   ]
  },
  {
   "cell_type": "code",
   "execution_count": 21,
   "metadata": {},
   "outputs": [
    {
     "name": "stdout",
     "output_type": "stream",
     "text": [
      "int32\n",
      "float64\n",
      "float64\n"
     ]
    }
   ],
   "source": [
    "x = np.array([1, 2])\n",
    "print(x.dtype)\n",
    "\n",
    "x = np.array([1.0, 2.0])   \n",
    "print(x.dtype)\n",
    "\n",
    "x = np.array([1, 2], dtype=np.float64)\n",
    "print(x.dtype)                    "
   ]
  },
  {
   "cell_type": "markdown",
   "metadata": {},
   "source": [
    "В первых двух примерах тип данных выбрался автоматически. В третьем мы явно его указали.\n",
    "Не будем подробно останавливаться на типах данных, если интересно вы можете прочитать подробнее в документации. https://docs.scipy.org/doc/numpy/reference/arrays.dtypes.html"
   ]
  },
  {
   "cell_type": "markdown",
   "metadata": {},
   "source": [
    "## Арифметика массивов\n",
    "Основные математические функции работают поелементно в массивах и доступны как в качестве перегрузок операторов, так и в качестве функций в модуле numpy:"
   ]
  },
  {
   "cell_type": "code",
   "execution_count": 22,
   "metadata": {},
   "outputs": [],
   "source": [
    "x = np.array([[1,2],[3,4]], dtype=np.float64)\n",
    "y = np.array([[5,6],[7,8]], dtype=np.float64)"
   ]
  },
  {
   "cell_type": "markdown",
   "metadata": {},
   "source": [
    "Поэлементная сумма, разность, умножение, деление и квадратный корень"
   ]
  },
  {
   "cell_type": "code",
   "execution_count": 23,
   "metadata": {},
   "outputs": [
    {
     "name": "stdout",
     "output_type": "stream",
     "text": [
      "[[ 6.  8.]\n",
      " [10. 12.]]\n",
      "[[ 6.  8.]\n",
      " [10. 12.]]\n"
     ]
    }
   ],
   "source": [
    "print(x + y)\n",
    "print(np.add(x, y))"
   ]
  },
  {
   "cell_type": "code",
   "execution_count": 24,
   "metadata": {},
   "outputs": [
    {
     "name": "stdout",
     "output_type": "stream",
     "text": [
      "[[-4. -4.]\n",
      " [-4. -4.]]\n",
      "[[-4. -4.]\n",
      " [-4. -4.]]\n"
     ]
    }
   ],
   "source": [
    "print(x - y)\n",
    "print(np.subtract(x, y))"
   ]
  },
  {
   "cell_type": "code",
   "execution_count": 25,
   "metadata": {},
   "outputs": [
    {
     "name": "stdout",
     "output_type": "stream",
     "text": [
      "[[ 5. 12.]\n",
      " [21. 32.]]\n",
      "[[ 5. 12.]\n",
      " [21. 32.]]\n"
     ]
    }
   ],
   "source": [
    "print(x * y)\n",
    "print(np.multiply(x, y))"
   ]
  },
  {
   "cell_type": "code",
   "execution_count": 26,
   "metadata": {},
   "outputs": [
    {
     "name": "stdout",
     "output_type": "stream",
     "text": [
      "[[0.2        0.33333333]\n",
      " [0.42857143 0.5       ]]\n",
      "[[0.2        0.33333333]\n",
      " [0.42857143 0.5       ]]\n"
     ]
    }
   ],
   "source": [
    "print(x / y)\n",
    "print(np.divide(x, y))"
   ]
  },
  {
   "cell_type": "code",
   "execution_count": 27,
   "metadata": {},
   "outputs": [
    {
     "name": "stdout",
     "output_type": "stream",
     "text": [
      "[[1.         1.41421356]\n",
      " [1.73205081 2.        ]]\n"
     ]
    }
   ],
   "source": [
    "print(np.sqrt(x))"
   ]
  },
  {
   "cell_type": "markdown",
   "metadata": {},
   "source": [
    "Обратите внимание, что `x * y` это поэлементное умножене, а не матричное произведение из линала. Если нужно матричное произведение, нужно использовать специальную функцию."
   ]
  },
  {
   "cell_type": "code",
   "execution_count": 29,
   "metadata": {},
   "outputs": [],
   "source": [
    "x = np.array([[1,2],[3,4]])\n",
    "y = np.array([[5,6],[7,8]])\n",
    "\n",
    "v = np.array([9,10])\n",
    "w = np.array([11, 12])"
   ]
  },
  {
   "cell_type": "markdown",
   "metadata": {},
   "source": [
    "Скалярное произведение векторов"
   ]
  },
  {
   "cell_type": "code",
   "execution_count": 30,
   "metadata": {},
   "outputs": [
    {
     "name": "stdout",
     "output_type": "stream",
     "text": [
      "219\n",
      "219\n"
     ]
    }
   ],
   "source": [
    "print(v.dot(w))\n",
    "print(np.dot(v, w))"
   ]
  },
  {
   "cell_type": "markdown",
   "metadata": {},
   "source": [
    "Умножение матрицы на вектор"
   ]
  },
  {
   "cell_type": "code",
   "execution_count": 31,
   "metadata": {},
   "outputs": [
    {
     "name": "stdout",
     "output_type": "stream",
     "text": [
      "[29 67]\n",
      "[29 67]\n"
     ]
    }
   ],
   "source": [
    "print(x.dot(v))\n",
    "print(np.dot(x, v))"
   ]
  },
  {
   "cell_type": "markdown",
   "metadata": {},
   "source": [
    "Матричное умножение"
   ]
  },
  {
   "cell_type": "code",
   "execution_count": 32,
   "metadata": {},
   "outputs": [
    {
     "name": "stdout",
     "output_type": "stream",
     "text": [
      "[[19 22]\n",
      " [43 50]]\n",
      "[[19 22]\n",
      " [43 50]]\n"
     ]
    }
   ],
   "source": [
    "print(x.dot(y))\n",
    "print(np.dot(x, y))"
   ]
  },
  {
   "cell_type": "markdown",
   "metadata": {},
   "source": [
    "Numpy предоставляет множество полезных функций для выполнения вычислений на массивах; одна из самых полезных-`sum`:"
   ]
  },
  {
   "cell_type": "code",
   "execution_count": 33,
   "metadata": {},
   "outputs": [
    {
     "name": "stdout",
     "output_type": "stream",
     "text": [
      "[[1 2]\n",
      " [3 4]] \n",
      "\n",
      "10\n",
      "[4 6]\n",
      "[3 7]\n"
     ]
    }
   ],
   "source": [
    "x = np.array([[1,2],[3,4]])\n",
    "\n",
    "print(x, '\\n')\n",
    "\n",
    "print(np.sum(x))          # Сумма всех элементов\n",
    "print(np.sum(x, axis=0))  # Сумма каждого столбца\n",
    "print(np.sum(x, axis=1))  # Сумма каждой строки"
   ]
  },
  {
   "cell_type": "markdown",
   "metadata": {},
   "source": [
    "Полный список математических функций можете посмотреть в документации\n",
    "https://docs.scipy.org/doc/numpy/reference/routines.math.html"
   ]
  },
  {
   "cell_type": "markdown",
   "metadata": {},
   "source": [
    "Помимо вычисления математических функций с использованием массивов, нам часто приходится изменять или иным образом манипулировать данными в массивах. Самый простой пример такого типа операции-транспонирование матрицы; чтобы транспонировать матрицу, просто используйте атрибут T объекта array:"
   ]
  },
  {
   "cell_type": "code",
   "execution_count": 34,
   "metadata": {},
   "outputs": [
    {
     "name": "stdout",
     "output_type": "stream",
     "text": [
      "[[1 2]\n",
      " [3 4]] \n",
      "\n",
      "[[1 3]\n",
      " [2 4]]\n"
     ]
    }
   ],
   "source": [
    "x = np.array([[1,2], [3,4]])\n",
    "print(x,'\\n')\n",
    "print(x.T)"
   ]
  },
  {
   "cell_type": "markdown",
   "metadata": {},
   "source": [
    "Транспонирование ветора ничего не делает"
   ]
  },
  {
   "cell_type": "code",
   "execution_count": 35,
   "metadata": {},
   "outputs": [
    {
     "name": "stdout",
     "output_type": "stream",
     "text": [
      "[1 2 3]\n",
      "[1 2 3]\n"
     ]
    }
   ],
   "source": [
    "v = np.array([1,2,3])\n",
    "print(v)\n",
    "print(v.T)"
   ]
  },
  {
   "cell_type": "markdown",
   "metadata": {},
   "source": [
    "Numpy предоставляет гораздо больше функций для управления массивами; вы можете увидеть полный список в документации. https://docs.scipy.org/doc/numpy/reference/routines.array-manipulation.html"
   ]
  },
  {
   "cell_type": "markdown",
   "metadata": {},
   "source": [
    "## Broadcasting\n",
    "мощный механизм, позволяющий numpy работать с массивами различной формы при выполнении арифметических операций. Часто у нас есть меньший массив и больший массив, и мы хотим использовать меньший массив несколько раз для выполнения некоторой операции над большим массивом."
   ]
  },
  {
   "cell_type": "markdown",
   "metadata": {},
   "source": [
    "Например, предположим, что мы хотим добавить постоянный вектор к каждой строке матрицы. Мы можем сделать это так:"
   ]
  },
  {
   "cell_type": "code",
   "execution_count": 36,
   "metadata": {},
   "outputs": [
    {
     "name": "stdout",
     "output_type": "stream",
     "text": [
      "[[ 1  2  3]\n",
      " [ 4  5  6]\n",
      " [ 7  8  9]\n",
      " [10 11 12]] \n",
      "\n",
      "[[ 2  2  4]\n",
      " [ 5  5  7]\n",
      " [ 8  8 10]\n",
      " [11 11 13]]\n"
     ]
    }
   ],
   "source": [
    "x = np.array([[1,2,3], [4,5,6], [7,8,9], [10, 11, 12]])\n",
    "v = np.array([1, 0, 1])\n",
    "y = np.empty_like(x)   # Пустая (заполненная мусором) матрица той же размерности, что и x\n",
    "\n",
    "# Для каждой строки матрицы x в цикле доболяем вектор v\n",
    "for i in range(4):\n",
    "    y[i, :] = x[i, :] + v\n",
    "\n",
    "print(x, '\\n')\n",
    "print(y)"
   ]
  },
  {
   "cell_type": "markdown",
   "metadata": {},
   "source": [
    "### Это работает! \n",
    "Но, когда матрица `x` очень велика, вычисление цикла в Python может быть медленным. Обратите внимание, что добавление вектора v в каждую строку матрицы x эквивалентно формированию матрицы `vv` путем укладки нескольких копий v вертикально, а затем выполнения элементарного суммирования `x` и `vv`. Мы могли бы реализовать такой подход:"
   ]
  },
  {
   "cell_type": "code",
   "execution_count": 37,
   "metadata": {},
   "outputs": [
    {
     "name": "stdout",
     "output_type": "stream",
     "text": [
      "[[1 0 1]\n",
      " [1 0 1]\n",
      " [1 0 1]\n",
      " [1 0 1]] \n",
      "\n",
      "[[ 2  2  4]\n",
      " [ 5  5  7]\n",
      " [ 8  8 10]\n",
      " [11 11 13]]\n"
     ]
    }
   ],
   "source": [
    "x = np.array([[1,2,3], [4,5,6], [7,8,9], [10, 11, 12]])\n",
    "v = np.array([1, 0, 1])\n",
    "vv = np.tile(v, (4, 1))   # Склеить 4 копии вектора v друг на друга\n",
    "print(vv, '\\n')                 \n",
    "\n",
    "y = x + vv  # Сложение из numpy\n",
    "print(y)"
   ]
  },
  {
   "cell_type": "markdown",
   "metadata": {},
   "source": [
    "Numpy broadcasting позволяет нам выполнять это вычисление без фактического создания нескольких копий `v`."
   ]
  },
  {
   "cell_type": "code",
   "execution_count": 38,
   "metadata": {},
   "outputs": [
    {
     "name": "stdout",
     "output_type": "stream",
     "text": [
      "[[ 2  2  4]\n",
      " [ 5  5  7]\n",
      " [ 8  8 10]\n",
      " [11 11 13]]\n"
     ]
    }
   ],
   "source": [
    "x = np.array([[1,2,3], [4,5,6], [7,8,9], [10, 11, 12]])\n",
    "v = np.array([1, 0, 1])\n",
    "y = x + v\n",
    "print(y)"
   ]
  },
  {
   "cell_type": "markdown",
   "metadata": {},
   "source": [
    "Строчка `y = x + v` работает несмотря на то, что `x.shape == (4, 3)` и `v.shape == (3,)`. Это работает как если бы  `v.shape`  было `(4,3)` где каждая строка была копией `v`, а сумма считается поэлементно."
   ]
  },
  {
   "cell_type": "markdown",
   "metadata": {},
   "source": [
    "Этот краткий обзор коснулся многих важных вещей, которые вы должны знать о numpy, но далек от завершения. По ссылке вы можете узнать много нового и полезного. https://docs.scipy.org/doc/numpy/reference/"
   ]
  },
  {
   "cell_type": "markdown",
   "metadata": {},
   "source": [
    "## Зачем всё это?\n",
    "Вы могли слышать, что один из минусов питона, это его большое время работы. NumPy пытается как-то решить эту проблему. Многие его функции реализованы на си или фортране. Рассмотрим пример"
   ]
  },
  {
   "cell_type": "code",
   "execution_count": 86,
   "metadata": {},
   "outputs": [
    {
     "name": "stdout",
     "output_type": "stream",
     "text": [
      "Numpy is in this example 0.9979518962091045 times faster!\n"
     ]
    }
   ],
   "source": [
    "import time\n",
    "\n",
    "size_of_vec = 30000\n",
    "\n",
    "def python():\n",
    "    start = time.time()\n",
    "    X = range(size_of_vec)\n",
    "    Y = range(size_of_vec)\n",
    "    Z = [X[i] + Y[i] for i in range(len(X)) ]\n",
    "    return time.time() - start\n",
    "\n",
    "def numpy():\n",
    "    start = time.time()\n",
    "    X = np.arange(size_of_vec)\n",
    "    Y = np.arange(size_of_vec)\n",
    "    Z = X + Y\n",
    "    return time.time() - start\n",
    "\n",
    "print(\"Numpy is in this example {} times faster!\".format(python()/numpy()))\n"
   ]
  },
  {
   "cell_type": "markdown",
   "metadata": {},
   "source": [
    "### Упражнение 1\n",
    "Постройте график ускорения получаемого с использованием массивов numpy по сравнению со списками в питоне от размера массива. \n",
    "Для более точных результатов замеряйте время выполнения функции несколько раз и усредняйте. (можно использовать модуль Timer из библиотеки timeit)\n",
    "* Используйте функцию `z = 2*x**2 + 4*y`\n",
    "* Перемножение матриц размера n на n"
   ]
  },
  {
   "cell_type": "code",
   "execution_count": 120,
   "metadata": {},
   "outputs": [
    {
     "data": {
      "image/png": "[encoded data removed]",
      "text/plain": [
       "<Figure size 432x288 with 1 Axes>"
      ]
     },
     "metadata": {
      "needs_background": "light"
     },
     "output_type": "display_data"
    }
   ],
   "source": [
    "import time\n",
    "import random\n",
    "\n",
    "def python(n):\n",
    "    start = time.time()\n",
    "    a = np.random.random((n, n))\n",
    "    b = np.random.random((n, n))\n",
    "    c = []\n",
    "    for i in range (n):\n",
    "        c.append([])\n",
    "        for j in range (n):\n",
    "            ssum = 0\n",
    "            for k in range(n):\n",
    "                ssum += a[i][k] * b[k][j]\n",
    "            c[i].append(ssum)\n",
    "    return time.time() - start\n",
    "\n",
    "def numpy(n):\n",
    "    start = time.time()\n",
    "    d = np.random.random((n, n))\n",
    "    e = np.random.random((n, n))\n",
    "    f = d.dot(e)\n",
    "    return time.time() - start\n",
    "t_python = []\n",
    "t_numpy = []\n",
    "n = np.arange(10, 100, 10)\n",
    "for i in n:\n",
    "    t_python.append(python(i))\n",
    "    t_numpy.append(numpy(i))\n",
    "plt.plot(t, t_python, t_numpy)\n",
    "plt.show()"
   ]
  },
  {
   "cell_type": "code",
   "execution_count": 124,
   "metadata": {},
   "outputs": [
    {
     "data": {
      "image/png": "[encoded data removed]",
      "text/plain": [
       "<Figure size 432x288 with 1 Axes>"
      ]
     },
     "metadata": {
      "needs_background": "light"
     },
     "output_type": "display_data"
    }
   ],
   "source": [
    "import time\n",
    "import numpy as np\n",
    "import matplotlib.pyplot as plt\n",
    "\n",
    "def numpy():\n",
    "    start = time.time()\n",
    "    x = np.arange(size_of_vec)\n",
    "    y = np.arange(size_of_vec)\n",
    "    z = 2*x**2 + 4*y\n",
    "    return time.time() - start\n",
    "\n",
    "def python():\n",
    "    start = time.time()\n",
    "    x = range(size_of_vec)\n",
    "    y = range(size_of_vec)\n",
    "    z = [2*x[i]**2 + 4*y[i] for i in range(len(x))]\n",
    "    return time.time() - start\n",
    "\n",
    "t_python = []\n",
    "t_numpy = []\n",
    "size = np.arange(10000, 100000, 10000)\n",
    "for size_of_vec in size:\n",
    "    t_python.append(python())\n",
    "    t_numpy.append(numpy())\n",
    "plt.plot(t, t_python, t_numpy)\n",
    "plt.show()"
   ]
  },
  {
   "cell_type": "markdown",
   "metadata": {},
   "source": [
    "### Упражнение 2\n",
    "* Создать массив чисел от 2 до 75. Вывести только нечётные. \n",
    "* Присвоить нечётным числам этого массива значение -1.\n"
   ]
  },
  {
   "cell_type": "code",
   "execution_count": 69,
   "metadata": {},
   "outputs": [
    {
     "name": "stdout",
     "output_type": "stream",
     "text": [
      "[ 3  5  7  9 11 13 15 17 19 21 23 25 27 29 31 33 35 37 39 41 43 45 47 49\n",
      " 51 53 55 57 59 61 63 65 67 69 71 73 75]\n",
      "[ 2 -1  4 -1  6 -1  8 -1 10 -1 12 -1 14 -1 16 -1 18 -1 20 -1 22 -1 24 -1\n",
      " 26 -1 28 -1 30 -1 32 -1 34 -1 36 -1 38 -1 40 -1 42 -1 44 -1 46 -1 48 -1\n",
      " 50 -1 52 -1 54 -1 56 -1 58 -1 60 -1 62 -1 64 -1 66 -1 68 -1 70 -1 72 -1\n",
      " 74 -1]\n"
     ]
    }
   ],
   "source": [
    "a = np.arange(2, 76, 1)\n",
    "\n",
    "bool_idx = (a % 2 != 0)  \n",
    "b = (a[bool_idx])\n",
    "print (b)\n",
    "\n",
    "a[bool_idx] = -1\n",
    "print(a)"
   ]
  },
  {
   "cell_type": "markdown",
   "metadata": {},
   "source": [
    "### Упражнение 3\n",
    "* прочитать про функцию reshape, запустить и понять все пимеры https://docs.scipy.org/doc/numpy/reference/generated/numpy.reshape.html?highlight=reshape#numpy.reshape\n",
    "* Найти в документации функцию, которая удаляет из одного массива элементы, которые есть в другом. Вспомнить как то же самое проделать с множествами"
   ]
  },
  {
   "cell_type": "code",
   "execution_count": 81,
   "metadata": {},
   "outputs": [
    {
     "name": "stdout",
     "output_type": "stream",
     "text": [
      "[[0. 0. 0. 0. 0. 0. 0. 0. 0. 0.]\n",
      " [0. 0. 0. 0. 0. 0. 0. 0. 0. 0.]]\n",
      "(2, 10)\n"
     ]
    }
   ],
   "source": [
    "a = np.zeros((10, 2))\n",
    "b = a.T\n",
    "c = b.view()\n",
    "c.shape = (2, 10)\n",
    "print(c)\n",
    "print(c.shape)"
   ]
  },
  {
   "cell_type": "code",
   "execution_count": 80,
   "metadata": {},
   "outputs": [
    {
     "name": "stdout",
     "output_type": "stream",
     "text": [
      "[[0 1]\n",
      " [2 3]\n",
      " [4 5]]\n"
     ]
    }
   ],
   "source": [
    "a = np.arange(6).reshape((3, 2))\n",
    "print(a)"
   ]
  },
  {
   "cell_type": "code",
   "execution_count": 111,
   "metadata": {},
   "outputs": [
    {
     "data": {
      "text/plain": [
       "array([1, 2, 3, 4, 5, 6])"
      ]
     },
     "execution_count": 111,
     "metadata": {},
     "output_type": "execute_result"
    }
   ],
   "source": [
    "a = np.array([[1,2,3], [4,5,6]])\n",
    "np.reshape(a, 6)"
   ]
  },
  {
   "cell_type": "code",
   "execution_count": 6,
   "metadata": {},
   "outputs": [
    {
     "name": "stdout",
     "output_type": "stream",
     "text": [
      "[1 2 3 4 5 6 7 8 9] \n",
      " [3 5 7]\n",
      "[1 2 4 6 8 9]\n"
     ]
    }
   ],
   "source": [
    "import numpy as np\n",
    "a = np.arange(1, 10, 1)\n",
    "b = np.arange(3, 8, 2)\n",
    "print(a, '\\n', b)\n",
    "print(np.setdiff1d(a, b))"
   ]
  },
  {
   "cell_type": "markdown",
   "metadata": {},
   "source": [
    "### Упражнение 4\n",
    "\n",
    "* Создать случаую квадратную матрицу случайного размера от 10 до 100. \n",
    "* Найти максимум и сумму элементов.\n",
    "* Поделить каждый элемент на максимум.\n",
    "* Отнять от каждой строки матрицы среднее по строке\n",
    "* Заменить максимальное значение на -1."
   ]
  },
  {
   "cell_type": "code",
   "execution_count": 58,
   "metadata": {},
   "outputs": [
    {
     "name": "stdout",
     "output_type": "stream",
     "text": [
      "[[0.34265019 0.04562952 0.01090118 ... 0.3724276  0.30475791 0.9268125 ]\n",
      " [0.16781324 0.15187112 0.20514162 ... 0.22442488 0.49781602 0.70677328]\n",
      " [0.14418626 0.59005225 0.62801045 ... 0.41527736 0.0816554  0.13751304]\n",
      " ...\n",
      " [0.06220778 0.4995135  0.6335959  ... 0.26513148 0.42100164 0.61413031]\n",
      " [0.47966312 0.33880373 0.21335408 ... 0.30501053 0.71991644 0.67494494]\n",
      " [0.77062975 0.22516481 0.78939839 ... 0.69236439 0.42330179 0.64740604]]\n",
      "0.9989709067684689 \n",
      "\n",
      "950.4448155121023 \n",
      "\n",
      "[[0.34300317 0.04567653 0.01091241 ... 0.37281125 0.30507186 0.92776726]\n",
      " [0.16798612 0.15202757 0.20535294 ... 0.22465607 0.49832884 0.70750137]\n",
      " [0.14433479 0.59066009 0.6286574  ... 0.41570516 0.08173952 0.1376547 ]\n",
      " ...\n",
      " [0.06227186 0.50002807 0.6342486  ... 0.26540461 0.42143534 0.61476296]\n",
      " [0.48015724 0.33915275 0.21357387 ... 0.30532474 0.72065806 0.67564024]\n",
      " [0.77142362 0.22539677 0.79021159 ... 0.69307763 0.42373786 0.64807297]]\n",
      "\n",
      "\n",
      "[0.5474374531304591, 0.4840996906069257, 0.4648156492834729, 0.4240004876371984, 0.5572996858762745, 0.6439074514520209, 0.4733769691464653, 0.4767774760462274, 0.4728867489727518, 0.5536168556525329, 0.4167574725649551, 0.47419803390637816, 0.5360715214391075, 0.481623906379952, 0.45787956507874833, 0.480465560619413, 0.39424382247549994, 0.5116765134457366, 0.5335571691984953, 0.4879258620580199, 0.5513722961359627, 0.4845464822800389, 0.4705761884944208, 0.5284142371461611, 0.4167885589398559, 0.5646095847989353, 0.5001757796672488, 0.48791451745708586, 0.4861192072106707, 0.49819048986508674, 0.5131071428085943, 0.3994949373678068, 0.5344864163476882, 0.49758243983514877, 0.5928577460806858, 0.43229260564052563, 0.47274081726173195, 0.45846785808479584, 0.4660180280311147, 0.4764441635589378, 0.43777279925735946, 0.47816220196637094, 0.5111623750989889, 0.4691037660601134]\n",
      "[[-0.20478726 -0.50180793 -0.53653627 ... -0.17500986 -0.24267954\n",
      "   0.37937504]\n",
      " [-0.31628645 -0.33222858 -0.27895807 ... -0.25967481  0.01371633\n",
      "   0.22267359]\n",
      " [-0.32062939  0.1252366   0.1631948  ... -0.04953829 -0.38316025\n",
      "  -0.32730261]\n",
      " ...\n",
      " [-0.41595443  0.0213513   0.1554337  ... -0.21303072 -0.05716056\n",
      "   0.13596811]\n",
      " [-0.03149926 -0.17235865 -0.29780829 ... -0.20615185  0.20875406\n",
      "   0.16378257]\n",
      " [ 0.30152599 -0.24393895  0.32029462 ...  0.22326063 -0.04580197\n",
      "   0.17830228]]\n",
      "\n",
      "\n",
      "[[0.34265019 0.04562952 0.01090118 ... 0.3724276  0.30475791 0.9268125 ]\n",
      " [0.16781324 0.15187112 0.20514162 ... 0.22442488 0.49781602 0.70677328]\n",
      " [0.14418626 0.59005225 0.62801045 ... 0.41527736 0.0816554  0.13751304]\n",
      " ...\n",
      " [0.06220778 0.4995135  0.6335959  ... 0.26513148 0.42100164 0.61413031]\n",
      " [0.47966312 0.33880373 0.21335408 ... 0.30501053 0.71991644 0.67494494]\n",
      " [0.77062975 0.22516481 0.78939839 ... 0.69236439 0.42330179 0.64740604]]\n"
     ]
    }
   ],
   "source": [
    "import numpy as np\n",
    "n = int(np.random.randint(10, 100, 1))\n",
    "m = np.random.random((n, n))\n",
    "print(m)\n",
    "\n",
    "mmax = m.max()\n",
    "msum = m.sum()\n",
    "print(mmax, '\\n')\n",
    "print(msum, '\\n')\n",
    "\n",
    "print(m/mmax)\n",
    "print('\\n')\n",
    "\n",
    "c = []\n",
    "for i in range(n):\n",
    "    ssum = 0\n",
    "    for j in range(n):\n",
    "        ssum = ssum + m[i][j]\n",
    "    c.append(ssum/n)\n",
    "    \n",
    "print(c)\n",
    "y = np.empty_like(m)\n",
    "for i in range(n):\n",
    "    y[i, :] = m[i, :] - c[i]\n",
    "print(y)\n",
    "print('\\n')\n",
    "\n",
    "m[m==np.max(m)] = -1\n",
    "print(m)"
   ]
  },
  {
   "cell_type": "markdown",
   "metadata": {},
   "source": [
    "### Упражнение 5\n",
    "* Научиться записывать наймпай массив в файл.\n",
    "* Научиться читать массив из файла."
   ]
  },
  {
   "cell_type": "code",
   "execution_count": 71,
   "metadata": {},
   "outputs": [
    {
     "name": "stdout",
     "output_type": "stream",
     "text": [
      "[ 0.  1.  2.  3.  4.  5.  6.  7.  8.  9. 10. 11. 12. 13. 14.]\n"
     ]
    }
   ],
   "source": [
    "import numpy as np\n",
    "x = np.arange(0, 15, 1)\n",
    "np.savetxt('test.txt', x)\n",
    "a = np.loadtxt('test.txt')\n",
    "print(a)"
   ]
  },
  {
   "cell_type": "markdown",
   "metadata": {},
   "source": [
    "### Упражнение 6\n",
    "* Как в массиве найти ближайший элемент к данному? "
   ]
  },
  {
   "cell_type": "code",
   "execution_count": 74,
   "metadata": {},
   "outputs": [
    {
     "name": "stdout",
     "output_type": "stream",
     "text": [
      "11\n"
     ]
    }
   ],
   "source": [
    "import numpy as np\n",
    "a = np.arange(100)\n",
    "b = 10.51\n",
    "index = (np.abs(a-b)).argmin()\n",
    "print(a[index])"
   ]
  },
  {
   "cell_type": "markdown",
   "metadata": {},
   "source": [
    "### Упражнение*\n",
    "* Напишите игру жизнь используя массивы нампай.\n"
   ]
  },
  {
   "cell_type": "code",
   "execution_count": null,
   "metadata": {},
   "outputs": [],
   "source": []
  }
 ],
 "metadata": {
  "kernelspec": {
   "display_name": "Python 3",
   "language": "python",
   "name": "python3"
  },
  "language_info": {
   "codemirror_mode": {
    "name": "ipython",
    "version": 3
   },
   "file_extension": ".py",
   "mimetype": "text/x-python",
   "name": "python",
   "nbconvert_exporter": "python",
   "pygments_lexer": "ipython3",
   "version": "3.7.2"
  }
 },
 "nbformat": 4,
 "nbformat_minor": 2
}
